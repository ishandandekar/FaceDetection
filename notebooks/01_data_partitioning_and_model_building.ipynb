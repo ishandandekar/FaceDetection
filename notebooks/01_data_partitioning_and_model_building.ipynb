{
  "nbformat": 4,
  "nbformat_minor": 0,
  "metadata": {
    "colab": {
      "provenance": []
    },
    "kernelspec": {
      "name": "python3",
      "display_name": "Python 3"
    },
    "language_info": {
      "name": "python"
    },
    "accelerator": "GPU",
    "gpuClass": "standard"
  },
  "cells": [
    {
      "cell_type": "markdown",
      "source": [
        "## Review Dataset and Build Image loading function"
      ],
      "metadata": {
        "id": "cCixB3OWI_n_"
      }
    },
    {
      "cell_type": "code",
      "execution_count": 1,
      "metadata": {
        "id": "l8AUa9pZIlbk"
      },
      "outputs": [],
      "source": [
        "import zipfile\n",
        "\n",
        "def unzip_data(filename: str,data_dir=\"data\") -> None:\n",
        "    \"\"\"\n",
        "    Unzips filename into the current working directory.\n",
        "    Args:\n",
        "        filename (str): a filepath to a target zip folder to be unzipped.\n",
        "    \"\"\"\n",
        "    zip_ref = zipfile.ZipFile(filename, \"r\")\n",
        "    zip_ref.extractall(data_dir)\n",
        "    zip_ref.close()"
      ]
    },
    {
      "cell_type": "code",
      "source": [
        "unzip_data(\"/content/zipped_data.zip\")\n",
        "unzip_data(\"/content/train.zip\")\n",
        "unzip_data(\"/content/test.zip\")\n",
        "unzip_data(\"/content/val.zip\")"
      ],
      "metadata": {
        "id": "aGb8eYVyJo3M"
      },
      "execution_count": 5,
      "outputs": []
    },
    {
      "cell_type": "code",
      "source": [
        "from pathlib import Path\n",
        "Path.cwd()"
      ],
      "metadata": {
        "colab": {
          "base_uri": "https://localhost:8080/"
        },
        "id": "9amtRur_JtBh",
        "outputId": "32aedccc-8bdd-4c59-b21c-b5636b2457a7"
      },
      "execution_count": null,
      "outputs": [
        {
          "output_type": "execute_result",
          "data": {
            "text/plain": [
              "PosixPath('/content')"
            ]
          },
          "metadata": {},
          "execution_count": 3
        }
      ]
    },
    {
      "cell_type": "markdown",
      "source": [
        "### Import TF and Deps"
      ],
      "metadata": {
        "id": "vOcaQANgKwbG"
      }
    },
    {
      "cell_type": "code",
      "source": [
        "import tensorflow as tf\n",
        "import json\n",
        "import numpy as np\n",
        "import matplotlib.pyplot as plt\n",
        "import os"
      ],
      "metadata": {
        "id": "xOi10bfUKzue"
      },
      "execution_count": 6,
      "outputs": []
    },
    {
      "cell_type": "markdown",
      "source": [
        "### Load Images into TF data pipeline"
      ],
      "metadata": {
        "id": "jr059sr5LFhR"
      }
    },
    {
      "cell_type": "code",
      "source": [
        "images = tf.data.Dataset.list_files('/content/data/data/images/*.jpg', shuffle=False)"
      ],
      "metadata": {
        "id": "H7kfENFQLI9w"
      },
      "execution_count": null,
      "outputs": []
    },
    {
      "cell_type": "code",
      "source": [
        "def load_img(x):\n",
        "  \"\"\"\n",
        "  Reads in the file and spits out image as an array\n",
        "  \"\"\"\n",
        "  byte_img = tf.io.read_file(x)\n",
        "  img = tf.io.decode_image(byte_img)\n",
        "  return img"
      ],
      "metadata": {
        "id": "6cd1SynCLcH6"
      },
      "execution_count": null,
      "outputs": []
    },
    {
      "cell_type": "code",
      "source": [
        "images = images.map(load_img)"
      ],
      "metadata": {
        "id": "SX3y93snLm13"
      },
      "execution_count": null,
      "outputs": []
    },
    {
      "cell_type": "code",
      "source": [
        "images.as_numpy_iterator().next()"
      ],
      "metadata": {
        "colab": {
          "base_uri": "https://localhost:8080/"
        },
        "id": "DC5P-ay8LpmX",
        "outputId": "c87a5724-a085-47cf-8edc-aa334056720a"
      },
      "execution_count": null,
      "outputs": [
        {
          "output_type": "execute_result",
          "data": {
            "text/plain": [
              "array([[[52, 50, 53],\n",
              "        [49, 47, 50],\n",
              "        [47, 45, 48],\n",
              "        ...,\n",
              "        [21, 22, 26],\n",
              "        [19, 23, 26],\n",
              "        [18, 22, 25]],\n",
              "\n",
              "       [[51, 49, 52],\n",
              "        [49, 47, 50],\n",
              "        [47, 45, 48],\n",
              "        ...,\n",
              "        [24, 25, 29],\n",
              "        [24, 25, 29],\n",
              "        [22, 26, 29]],\n",
              "\n",
              "       [[51, 49, 52],\n",
              "        [49, 47, 50],\n",
              "        [47, 45, 48],\n",
              "        ...,\n",
              "        [24, 25, 29],\n",
              "        [23, 24, 28],\n",
              "        [22, 23, 27]],\n",
              "\n",
              "       ...,\n",
              "\n",
              "       [[31, 26, 32],\n",
              "        [38, 33, 39],\n",
              "        [42, 37, 43],\n",
              "        ...,\n",
              "        [21, 17, 16],\n",
              "        [22, 18, 17],\n",
              "        [22, 18, 17]],\n",
              "\n",
              "       [[29, 19, 27],\n",
              "        [37, 27, 35],\n",
              "        [42, 32, 40],\n",
              "        ...,\n",
              "        [18, 18, 18],\n",
              "        [19, 19, 19],\n",
              "        [19, 19, 19]],\n",
              "\n",
              "       [[26, 15, 23],\n",
              "        [35, 24, 32],\n",
              "        [41, 30, 38],\n",
              "        ...,\n",
              "        [17, 19, 18],\n",
              "        [18, 20, 19],\n",
              "        [18, 20, 19]]], dtype=uint8)"
            ]
          },
          "metadata": {},
          "execution_count": 8
        }
      ]
    },
    {
      "cell_type": "markdown",
      "source": [
        "### View images using `matpotlib`"
      ],
      "metadata": {
        "id": "j8mKhYJRM1le"
      }
    },
    {
      "cell_type": "code",
      "source": [
        "image_generator = images.batch(4).as_numpy_iterator()"
      ],
      "metadata": {
        "id": "Wki3y2EvLvGd"
      },
      "execution_count": null,
      "outputs": []
    },
    {
      "cell_type": "code",
      "source": [
        "to_plot_images = image_generator.next()"
      ],
      "metadata": {
        "id": "BTy2zKkwNJ_q"
      },
      "execution_count": null,
      "outputs": []
    },
    {
      "cell_type": "code",
      "source": [
        "# Uncomment below code to see the data\n",
        "\n",
        "# fig, ax = plt.subplots(ncols=4, figsize=(20, 20))\n",
        "\n",
        "# for idx, image in enumerate(to_plot_images):\n",
        "#   ax[idx].imshow(image)\n",
        "\n",
        "# plt.show()"
      ],
      "metadata": {
        "id": "1HymkAIKOJqB"
      },
      "execution_count": null,
      "outputs": []
    },
    {
      "cell_type": "markdown",
      "source": [
        "## Partition data and move files"
      ],
      "metadata": {
        "id": "M0bHS-GtQtQh"
      }
    },
    {
      "cell_type": "code",
      "source": [
        "!mkdir /content/data/train\n",
        "!mkdir /content/data/train/images\n",
        "!mkdir /content/data/train/labels\n",
        "\n",
        "!mkdir /content/data/val\n",
        "!mkdir /content/data/val/images\n",
        "!mkdir /content/data/val/labels\n",
        "\n",
        "!mkdir /content/data/test\n",
        "!mkdir /content/data/test/images\n",
        "!mkdir /content/data/test/labels"
      ],
      "metadata": {
        "id": "1mx5p1C-bR0H"
      },
      "execution_count": null,
      "outputs": []
    },
    {
      "cell_type": "code",
      "source": [
        "import random\n",
        "import shutil\n",
        "import os\n",
        "from pathlib import Path\n",
        "random.seed(42)\n",
        "\n",
        "N_VAL = 13\n",
        "N_TEST = 14\n",
        "\n",
        "image_fileset = os.listdir('/content/data/data/images')\n",
        "labels_fileset = os.listdir('/content/data/data/labels')\n",
        "\n",
        "base_path = '/content/data/data/images'\n",
        "\n",
        "# val_imgs, val_labels = zip(*random.sample(list(zip(image_fileset, labels_fileset)), N_VAL))\n",
        "# set1 = set(image_fileset)\n",
        "# set2 = set(val_imgs)\n",
        "# image_fileset = list(set1 - set2)\n",
        "# set1 = set(labels_fileset)\n",
        "# set2 = set(val_labels)\n",
        "# labels_fileset = list(set1 - set2)\n",
        "\n",
        "# test_imgs, test_labels = zip(*random.sample(list(zip(image_fileset, labels_fileset)), N_TEST))\n",
        "# set1 = set(image_fileset)\n",
        "# set2 = set(test_imgs)\n",
        "# train_imgs = list(set1 - set2)\n",
        "# set1 = set(labels_fileset)\n",
        "# set2 = set(test_labels)\n",
        "# train_labels = list(set1 - set2)"
      ],
      "metadata": {
        "id": "MZtRaOW2Qvp7"
      },
      "execution_count": null,
      "outputs": []
    },
    {
      "cell_type": "code",
      "source": [
        "len(image_fileset), len(labels_fileset)"
      ],
      "metadata": {
        "colab": {
          "base_uri": "https://localhost:8080/"
        },
        "id": "MWAXQgGiOXt1",
        "outputId": "a4a22155-6773-4d29-823d-132f3d643774"
      },
      "execution_count": null,
      "outputs": [
        {
          "output_type": "execute_result",
          "data": {
            "text/plain": [
              "(90, 82)"
            ]
          },
          "metadata": {},
          "execution_count": 14
        }
      ]
    },
    {
      "cell_type": "code",
      "source": [
        "from sklearn.model_selection import train_test_split\n",
        "\n",
        "train_val_imgs, train_val_labels, test_imgs, test_labels = train_test_split(image_fileset, labels_fileset, test_size=0.15)\n",
        "train_imgs, train_labels, val_imgs, val_labels = train_test_split(train_val_imgs, train_val_labels, test_size=0.15)"
      ],
      "metadata": {
        "id": "CtH7Cbz60Juh",
        "colab": {
          "base_uri": "https://localhost:8080/",
          "height": 363
        },
        "outputId": "8fa81712-2782-4b09-a5e6-9fca5e7e9b89"
      },
      "execution_count": null,
      "outputs": [
        {
          "output_type": "error",
          "ename": "ValueError",
          "evalue": "ignored",
          "traceback": [
            "\u001b[0;31m---------------------------------------------------------------------------\u001b[0m",
            "\u001b[0;31mValueError\u001b[0m                                Traceback (most recent call last)",
            "\u001b[0;32m<ipython-input-13-06efc68a0f6c>\u001b[0m in \u001b[0;36m<module>\u001b[0;34m\u001b[0m\n\u001b[1;32m      1\u001b[0m \u001b[0;32mfrom\u001b[0m \u001b[0msklearn\u001b[0m\u001b[0;34m.\u001b[0m\u001b[0mmodel_selection\u001b[0m \u001b[0;32mimport\u001b[0m \u001b[0mtrain_test_split\u001b[0m\u001b[0;34m\u001b[0m\u001b[0;34m\u001b[0m\u001b[0m\n\u001b[1;32m      2\u001b[0m \u001b[0;34m\u001b[0m\u001b[0m\n\u001b[0;32m----> 3\u001b[0;31m \u001b[0mtrain_val_imgs\u001b[0m\u001b[0;34m,\u001b[0m \u001b[0mtrain_val_labels\u001b[0m\u001b[0;34m,\u001b[0m \u001b[0mtest_imgs\u001b[0m\u001b[0;34m,\u001b[0m \u001b[0mtest_labels\u001b[0m \u001b[0;34m=\u001b[0m \u001b[0mtrain_test_split\u001b[0m\u001b[0;34m(\u001b[0m\u001b[0mimage_fileset\u001b[0m\u001b[0;34m,\u001b[0m \u001b[0mlabels_fileset\u001b[0m\u001b[0;34m,\u001b[0m \u001b[0mtest_size\u001b[0m\u001b[0;34m=\u001b[0m\u001b[0;36m0.15\u001b[0m\u001b[0;34m)\u001b[0m\u001b[0;34m\u001b[0m\u001b[0;34m\u001b[0m\u001b[0m\n\u001b[0m\u001b[1;32m      4\u001b[0m \u001b[0mtrain_imgs\u001b[0m\u001b[0;34m,\u001b[0m \u001b[0mtrain_labels\u001b[0m\u001b[0;34m,\u001b[0m \u001b[0mval_imgs\u001b[0m\u001b[0;34m,\u001b[0m \u001b[0mval_labels\u001b[0m \u001b[0;34m=\u001b[0m \u001b[0mtrain_test_split\u001b[0m\u001b[0;34m(\u001b[0m\u001b[0mtrain_val_imgs\u001b[0m\u001b[0;34m,\u001b[0m \u001b[0mtrain_val_labels\u001b[0m\u001b[0;34m,\u001b[0m \u001b[0mtest_size\u001b[0m\u001b[0;34m=\u001b[0m\u001b[0;36m0.15\u001b[0m\u001b[0;34m)\u001b[0m\u001b[0;34m\u001b[0m\u001b[0;34m\u001b[0m\u001b[0m\n",
            "\u001b[0;32m/usr/local/lib/python3.8/dist-packages/sklearn/model_selection/_split.py\u001b[0m in \u001b[0;36mtrain_test_split\u001b[0;34m(test_size, train_size, random_state, shuffle, stratify, *arrays)\u001b[0m\n\u001b[1;32m   2415\u001b[0m         \u001b[0;32mraise\u001b[0m \u001b[0mValueError\u001b[0m\u001b[0;34m(\u001b[0m\u001b[0;34m\"At least one array required as input\"\u001b[0m\u001b[0;34m)\u001b[0m\u001b[0;34m\u001b[0m\u001b[0;34m\u001b[0m\u001b[0m\n\u001b[1;32m   2416\u001b[0m \u001b[0;34m\u001b[0m\u001b[0m\n\u001b[0;32m-> 2417\u001b[0;31m     \u001b[0marrays\u001b[0m \u001b[0;34m=\u001b[0m \u001b[0mindexable\u001b[0m\u001b[0;34m(\u001b[0m\u001b[0;34m*\u001b[0m\u001b[0marrays\u001b[0m\u001b[0;34m)\u001b[0m\u001b[0;34m\u001b[0m\u001b[0;34m\u001b[0m\u001b[0m\n\u001b[0m\u001b[1;32m   2418\u001b[0m \u001b[0;34m\u001b[0m\u001b[0m\n\u001b[1;32m   2419\u001b[0m     \u001b[0mn_samples\u001b[0m \u001b[0;34m=\u001b[0m \u001b[0m_num_samples\u001b[0m\u001b[0;34m(\u001b[0m\u001b[0marrays\u001b[0m\u001b[0;34m[\u001b[0m\u001b[0;36m0\u001b[0m\u001b[0;34m]\u001b[0m\u001b[0;34m)\u001b[0m\u001b[0;34m\u001b[0m\u001b[0;34m\u001b[0m\u001b[0m\n",
            "\u001b[0;32m/usr/local/lib/python3.8/dist-packages/sklearn/utils/validation.py\u001b[0m in \u001b[0;36mindexable\u001b[0;34m(*iterables)\u001b[0m\n\u001b[1;32m    376\u001b[0m \u001b[0;34m\u001b[0m\u001b[0m\n\u001b[1;32m    377\u001b[0m     \u001b[0mresult\u001b[0m \u001b[0;34m=\u001b[0m \u001b[0;34m[\u001b[0m\u001b[0m_make_indexable\u001b[0m\u001b[0;34m(\u001b[0m\u001b[0mX\u001b[0m\u001b[0;34m)\u001b[0m \u001b[0;32mfor\u001b[0m \u001b[0mX\u001b[0m \u001b[0;32min\u001b[0m \u001b[0miterables\u001b[0m\u001b[0;34m]\u001b[0m\u001b[0;34m\u001b[0m\u001b[0;34m\u001b[0m\u001b[0m\n\u001b[0;32m--> 378\u001b[0;31m     \u001b[0mcheck_consistent_length\u001b[0m\u001b[0;34m(\u001b[0m\u001b[0;34m*\u001b[0m\u001b[0mresult\u001b[0m\u001b[0;34m)\u001b[0m\u001b[0;34m\u001b[0m\u001b[0;34m\u001b[0m\u001b[0m\n\u001b[0m\u001b[1;32m    379\u001b[0m     \u001b[0;32mreturn\u001b[0m \u001b[0mresult\u001b[0m\u001b[0;34m\u001b[0m\u001b[0;34m\u001b[0m\u001b[0m\n\u001b[1;32m    380\u001b[0m \u001b[0;34m\u001b[0m\u001b[0m\n",
            "\u001b[0;32m/usr/local/lib/python3.8/dist-packages/sklearn/utils/validation.py\u001b[0m in \u001b[0;36mcheck_consistent_length\u001b[0;34m(*arrays)\u001b[0m\n\u001b[1;32m    330\u001b[0m     \u001b[0muniques\u001b[0m \u001b[0;34m=\u001b[0m \u001b[0mnp\u001b[0m\u001b[0;34m.\u001b[0m\u001b[0munique\u001b[0m\u001b[0;34m(\u001b[0m\u001b[0mlengths\u001b[0m\u001b[0;34m)\u001b[0m\u001b[0;34m\u001b[0m\u001b[0;34m\u001b[0m\u001b[0m\n\u001b[1;32m    331\u001b[0m     \u001b[0;32mif\u001b[0m \u001b[0mlen\u001b[0m\u001b[0;34m(\u001b[0m\u001b[0muniques\u001b[0m\u001b[0;34m)\u001b[0m \u001b[0;34m>\u001b[0m \u001b[0;36m1\u001b[0m\u001b[0;34m:\u001b[0m\u001b[0;34m\u001b[0m\u001b[0;34m\u001b[0m\u001b[0m\n\u001b[0;32m--> 332\u001b[0;31m         raise ValueError(\n\u001b[0m\u001b[1;32m    333\u001b[0m             \u001b[0;34m\"Found input variables with inconsistent numbers of samples: %r\"\u001b[0m\u001b[0;34m\u001b[0m\u001b[0;34m\u001b[0m\u001b[0m\n\u001b[1;32m    334\u001b[0m             \u001b[0;34m%\u001b[0m \u001b[0;34m[\u001b[0m\u001b[0mint\u001b[0m\u001b[0;34m(\u001b[0m\u001b[0ml\u001b[0m\u001b[0;34m)\u001b[0m \u001b[0;32mfor\u001b[0m \u001b[0ml\u001b[0m \u001b[0;32min\u001b[0m \u001b[0mlengths\u001b[0m\u001b[0;34m]\u001b[0m\u001b[0;34m\u001b[0m\u001b[0;34m\u001b[0m\u001b[0m\n",
            "\u001b[0;31mValueError\u001b[0m: Found input variables with inconsistent numbers of samples: [90, 82]"
          ]
        }
      ]
    },
    {
      "cell_type": "code",
      "source": [
        "# for file_name in train_imgs:\n",
        "#   prev_file_path = Path.cwd() / \"data\" / \"data\" / \"images\" / file_name\n",
        "#   new_file_path = Path.cwd() / \"data\" / \"train\" / \"images\" / file_name\n",
        "#   shutil.move(prev_file_path, new_file_path)\n",
        "\n",
        "# for file_name in train_labels:\n",
        "#   prev_file_path = Path.cwd() / \"data\" / \"data\" / \"labels\" / file_name\n",
        "#   new_file_path = Path.cwd() / \"data\" / \"train\" / \"labels\" / file_name\n",
        "#   shutil.move(prev_file_path, new_file_path)\n",
        "\n",
        "# for file_name in val_imgs:\n",
        "#   prev_file_path = Path.cwd() / \"data\" / \"data\" / \"images\" / file_name\n",
        "#   new_file_path = Path.cwd() / \"data\" / \"val\" / \"images\" / file_name\n",
        "#   shutil.move(prev_file_path, new_file_path)\n",
        "\n",
        "# for file_name in val_labels:\n",
        "#   prev_file_path = Path.cwd() / \"data\" / \"data\" / \"labels\" / file_name\n",
        "#   new_file_path = Path.cwd() / \"data\" / \"val\" / \"labels\" / file_name\n",
        "#   shutil.move(prev_file_path, new_file_path)\n",
        "\n",
        "# for file_name in test_imgs:\n",
        "#   prev_file_path = Path.cwd() / \"data\" / \"data\" / \"images\" / file_name\n",
        "#   new_file_path = Path.cwd() / \"data\" / \"test\" / \"images\" / file_name\n",
        "#   shutil.move(prev_file_path, new_file_path)\n",
        "\n",
        "# for file_name in test_labels:\n",
        "#   prev_file_path = Path.cwd() / \"data\" / \"data\" / \"labels\" / file_name\n",
        "#   new_file_path = Path.cwd() / \"data\" / \"test\" / \"labels\" / file_name\n",
        "#   shutil.move(prev_file_path, new_file_path)"
      ],
      "metadata": {
        "id": "UwvKqfMS0HM6"
      },
      "execution_count": null,
      "outputs": []
    },
    {
      "cell_type": "markdown",
      "source": [
        "### Moving matching labels"
      ],
      "metadata": {
        "id": "Twh7OQ1GQsdC"
      }
    },
    {
      "cell_type": "code",
      "source": [
        "for folder in ['train', 'test', 'val']:\n",
        "  for file in os.listdir(os.path.join('data', folder, 'images')):\n",
        "    filename = file.split('.')[0] + '.json'\n",
        "    existing_filepath = os.path.join('data', 'data', 'labels', filename)\n",
        "    if os.path.exists(existing_filepath):\n",
        "      new_filepath = os.path.join('data', folder, 'labels', filename)\n",
        "      os.replace(existing_filepath, new_filepath)"
      ],
      "metadata": {
        "id": "fxSfirBnQpDO"
      },
      "execution_count": 7,
      "outputs": []
    },
    {
      "cell_type": "markdown",
      "source": [
        "## Apply data augmentation on images and labels using `albumentations`"
      ],
      "metadata": {
        "id": "195A4wAkjtMa"
      }
    },
    {
      "cell_type": "code",
      "source": [
        "import albumentations as alb"
      ],
      "metadata": {
        "id": "ISHj0uLWj2os"
      },
      "execution_count": 8,
      "outputs": []
    },
    {
      "cell_type": "code",
      "source": [
        "augmentor = alb.Compose([\n",
        "    alb.RandomCrop(width=450, height=450),\n",
        "    alb.HorizontalFlip(p=0.5),\n",
        "    # alb.RandomBrightnessConstrast(p=0.2),\n",
        "    alb.RandomGamma(p=0.2),\n",
        "    alb.RGBShift(p=0.2),\n",
        "    alb.VerticalFlip(0.5),\n",
        "], bbox_params=alb.BboxParams(format='albumentations', label_fields=['class_labels']))"
      ],
      "metadata": {
        "id": "Lv36B9qnkAjD"
      },
      "execution_count": 9,
      "outputs": []
    },
    {
      "cell_type": "markdown",
      "source": [
        "### Testing the augmentation pipeline"
      ],
      "metadata": {
        "id": "yhfPUioylI9G"
      }
    },
    {
      "cell_type": "code",
      "source": [
        "import cv2\n",
        "img = cv2.imread('/content/data/test/images/32302fba-8133-11ed-9766-6018953ccf15.jpg')"
      ],
      "metadata": {
        "id": "SmLbIa82lMXr"
      },
      "execution_count": 21,
      "outputs": []
    },
    {
      "cell_type": "code",
      "source": [
        "img.shape"
      ],
      "metadata": {
        "colab": {
          "base_uri": "https://localhost:8080/"
        },
        "id": "26UU62gcTN3j",
        "outputId": "960c0155-71c1-430b-efea-a3479fe8d963"
      },
      "execution_count": 22,
      "outputs": [
        {
          "output_type": "execute_result",
          "data": {
            "text/plain": [
              "(480, 640, 3)"
            ]
          },
          "metadata": {},
          "execution_count": 22
        }
      ]
    },
    {
      "cell_type": "code",
      "source": [
        "plt.imshow(img)"
      ],
      "metadata": {
        "colab": {
          "base_uri": "https://localhost:8080/",
          "height": 286
        },
        "id": "RniQwEOmi75D",
        "outputId": "165b755b-691e-48dd-f18d-d11a4ff3376b"
      },
      "execution_count": 26,
      "outputs": [
        {
          "output_type": "execute_result",
          "data": {
            "text/plain": [
              "<matplotlib.image.AxesImage at 0x7fa99fe83640>"
            ]
          },
          "metadata": {},
          "execution_count": 26
        },
        {
          "output_type": "display_data",
          "data": {
            "text/plain": [
              "<Figure size 432x288 with 1 Axes>"
            ],
            "image/png": "[encoded data removed]"
          },
          "metadata": {
            "needs_background": "light"
          }
        }
      ]
    },
    {
      "cell_type": "code",
      "source": [
        "import json\n",
        "with open('/content/data/test/labels/32302fba-8133-11ed-9766-6018953ccf15.json', 'r') as f:\n",
        "  label = json.load(f)"
      ],
      "metadata": {
        "id": "rnxYZwfpldtN"
      },
      "execution_count": 23,
      "outputs": []
    },
    {
      "cell_type": "markdown",
      "source": [
        "# Remove `32302fba-8133-11ed-9766-6018953ccf15.json` from test folder!"
      ],
      "metadata": {
        "id": "Y6vyMlS5kcec"
      }
    },
    {
      "cell_type": "code",
      "source": [
        "label"
      ],
      "metadata": {
        "colab": {
          "base_uri": "https://localhost:8080/"
        },
        "id": "r5Urbk-Ci4vz",
        "outputId": "f44be6e9-73c2-4b83-c93b-7d506d51842d"
      },
      "execution_count": 25,
      "outputs": [
        {
          "output_type": "execute_result",
          "data": {
            "text/plain": [
              "{'version': '5.1.1',\n",
              " 'flags': {},\n",
              " 'shapes': [],\n",
              " 'imagePath': '..\\\\images\\\\32302fba-8133-11ed-9766-6018953ccf15.jpg',\n",
              " 'imageData': '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',\n",
              " 'imageHeight': 480,\n",
              " 'imageWidth': 640}"
            ]
          },
          "metadata": {},
          "execution_count": 25
        }
      ]
    },
    {
      "cell_type": "code",
      "source": [
        "label['shapes'][0]"
      ],
      "metadata": {
        "colab": {
          "base_uri": "https://localhost:8080/",
          "height": 165
        },
        "id": "nrmRT2MTTQBc",
        "outputId": "eff594a8-d993-447f-df10-00810c54bbb2"
      },
      "execution_count": 24,
      "outputs": [
        {
          "output_type": "error",
          "ename": "IndexError",
          "evalue": "ignored",
          "traceback": [
            "\u001b[0;31m---------------------------------------------------------------------------\u001b[0m",
            "\u001b[0;31mIndexError\u001b[0m                                Traceback (most recent call last)",
            "\u001b[0;32m<ipython-input-24-bd633aed48b6>\u001b[0m in \u001b[0;36m<module>\u001b[0;34m\u001b[0m\n\u001b[0;32m----> 1\u001b[0;31m \u001b[0mlabel\u001b[0m\u001b[0;34m[\u001b[0m\u001b[0;34m'shapes'\u001b[0m\u001b[0;34m]\u001b[0m\u001b[0;34m[\u001b[0m\u001b[0;36m0\u001b[0m\u001b[0;34m]\u001b[0m\u001b[0;34m\u001b[0m\u001b[0;34m\u001b[0m\u001b[0m\n\u001b[0m",
            "\u001b[0;31mIndexError\u001b[0m: list index out of range"
          ]
        }
      ]
    },
    {
      "cell_type": "markdown",
      "source": [
        "### Extract coordinated"
      ],
      "metadata": {
        "id": "Pe70DKUOTmp8"
      }
    },
    {
      "cell_type": "code",
      "source": [
        "coords = [0, 0, 0, 0]\n",
        "coords[0] = label['shapes'][0]['points'][0][0]\n",
        "coords[1] = label['shapes'][0]['points'][0][1]\n",
        "coords[2] = label['shapes'][0]['points'][1][0]\n",
        "coords[3] = label['shapes'][0]['points'][1][1]\n",
        "coords"
      ],
      "metadata": {
        "colab": {
          "base_uri": "https://localhost:8080/"
        },
        "id": "Wxzs73O0Tohd",
        "outputId": "2d1b773e-81df-43e7-a7e0-074d41813d55"
      },
      "execution_count": 14,
      "outputs": [
        {
          "output_type": "execute_result",
          "data": {
            "text/plain": [
              "[343.97959183673476, 142.55102040816325, 538.8775510204082, 384.38775510204084]"
            ]
          },
          "metadata": {},
          "execution_count": 14
        }
      ]
    },
    {
      "cell_type": "code",
      "source": [
        "coords = list(np.divide(coords, [640, 480, 640, 480]))\n",
        "coords"
      ],
      "metadata": {
        "colab": {
          "base_uri": "https://localhost:8080/"
        },
        "id": "LPe_TR8_T2y6",
        "outputId": "69f5d575-94bb-4d8a-c18b-44cd5bf94635"
      },
      "execution_count": 15,
      "outputs": [
        {
          "output_type": "execute_result",
          "data": {
            "text/plain": [
              "[0.5374681122448981,\n",
              " 0.2969812925170068,\n",
              " 0.8419961734693878,\n",
              " 0.8008078231292518]"
            ]
          },
          "metadata": {},
          "execution_count": 15
        }
      ]
    },
    {
      "cell_type": "code",
      "source": [
        "augmented = augmentor(image=img, bboxes=[coords], class_labels=['face'])"
      ],
      "metadata": {
        "id": "wZG3NBDYUDh7"
      },
      "execution_count": 16,
      "outputs": []
    },
    {
      "cell_type": "code",
      "source": [
        "augmented['image'].shape"
      ],
      "metadata": {
        "colab": {
          "base_uri": "https://localhost:8080/"
        },
        "id": "QNy214HLUXv5",
        "outputId": "c3ba7ca7-ca66-4ce0-a1ee-5f9af6947e92"
      },
      "execution_count": 17,
      "outputs": [
        {
          "output_type": "execute_result",
          "data": {
            "text/plain": [
              "(450, 450, 3)"
            ]
          },
          "metadata": {},
          "execution_count": 17
        }
      ]
    },
    {
      "cell_type": "code",
      "source": [
        "cv2.rectangle(augmented['image'],\n",
        "              tuple(np.multiply(augmented['bboxes'][0][:2], [450, 450]).astype(int)),\n",
        "              tuple(np.multiply(augmented['bboxes'][0][2:], [450, 450]).astype(int)),\n",
        "              (255, 0, 0), 2)\n",
        "plt.imshow(augmented['image'])"
      ],
      "metadata": {
        "colab": {
          "base_uri": "https://localhost:8080/",
          "height": 286
        },
        "id": "qd9W5pAfUYg7",
        "outputId": "ab250e8e-79d6-456d-ec49-b35d0ec6d58d"
      },
      "execution_count": 18,
      "outputs": [
        {
          "output_type": "execute_result",
          "data": {
            "text/plain": [
              "<matplotlib.image.AxesImage at 0x7fa9a3b0b8e0>"
            ]
          },
          "metadata": {},
          "execution_count": 18
        },
        {
          "output_type": "display_data",
          "data": {
            "text/plain": [
              "<Figure size 432x288 with 1 Axes>"
            ],
            "image/png": "[encoded data removed]"
          },
          "metadata": {
            "needs_background": "light"
          }
        }
      ]
    },
    {
      "cell_type": "markdown",
      "source": [
        "### Pipeline for each image"
      ],
      "metadata": {
        "id": "OVaBKTP7cdXy"
      }
    },
    {
      "cell_type": "code",
      "source": [
        "!rm -rf aug_data"
      ],
      "metadata": {
        "id": "EvllLjt_kHxk"
      },
      "execution_count": 28,
      "outputs": []
    },
    {
      "cell_type": "code",
      "source": [
        "!mkdir /content/aug_data\n",
        "\n",
        "!mkdir /content/aug_data/train\n",
        "!mkdir /content/aug_data/train/images\n",
        "!mkdir /content/aug_data/train/labels\n",
        "\n",
        "!mkdir /content/aug_data/val\n",
        "!mkdir /content/aug_data/val/images\n",
        "!mkdir /content/aug_data/val/labels\n",
        "\n",
        "!mkdir /content/aug_data/test\n",
        "!mkdir /content/aug_data/test/images\n",
        "!mkdir /content/aug_data/test/labels"
      ],
      "metadata": {
        "id": "Jz2XuCuTh-O-"
      },
      "execution_count": 29,
      "outputs": []
    },
    {
      "cell_type": "code",
      "source": [
        "for partition in [\"train\", \"test\", \"val\"]:\n",
        "  for image in os.listdir(os.path.join('data', partition, 'images')):\n",
        "    img = cv2.imread(os.path.join('data', partition, 'images', image))\n",
        "\n",
        "    coords = [0, 0, 0.00001, 0.00001]\n",
        "    label_path = os.path.join('data', partition, 'labels', f'{image.split(\".\")[0]}.json')\n",
        "    if os.path.exists(label_path):\n",
        "      with open(label_path, 'r') as f:\n",
        "        label = json.load(f)\n",
        "\n",
        "      print(f\"{partition}\\t|{image.split('.')[0]}.json\")\n",
        "      coords[0] = label['shapes'][0]['points'][0][0]\n",
        "      coords[1] = label['shapes'][0]['points'][0][1]\n",
        "      coords[2] = label['shapes'][0]['points'][1][0]\n",
        "      coords[3] = label['shapes'][0]['points'][1][1]\n",
        "      coords = list(np.divide(coords, [640, 480, 640, 480]))\n",
        "\n",
        "    try:\n",
        "      for x in range(60):\n",
        "        augmented = augmentor(image=img, bboxes=[coords], class_labels=['face'])\n",
        "        cv2.imwrite(os.path.join('aug_data', partition, 'images', f'{image.split(\".\")[0]}.{x}.jpg'), augmented['image'])\n",
        "\n",
        "        annotation = {}\n",
        "        annotation['image'] = image\n",
        "\n",
        "        if os.path.exists(label_path):\n",
        "          if len(augmented['bboxes']) == 0:\n",
        "            annotation['bbox'] = [0, 0, 0, 0]\n",
        "            annotation['class'] = 0\n",
        "          else:\n",
        "            annotation['bbox'] = augmented['bboxes'][0]\n",
        "            annotation['class'] = 1\n",
        "        else:\n",
        "          annotation['bbox'] = [0, 0, 0, 0]\n",
        "          annotation['class'] = 0\n",
        "\n",
        "        with open(os.path.join('aug_data', partition, 'labels', f'{image.split(\".\")[0]}.{x}.json'), 'w') as f:\n",
        "          json.dump(annotation, f)\n",
        "    \n",
        "    except Exception as e:\n",
        "      print(e)"
      ],
      "metadata": {
        "colab": {
          "base_uri": "https://localhost:8080/"
        },
        "id": "r70a8ad6cZRx",
        "outputId": "4805cd9b-2dc8-479f-c0e4-6b935e56d1e7"
      },
      "execution_count": 30,
      "outputs": [
        {
          "output_type": "stream",
          "name": "stdout",
          "text": [
            "train\t|9a4bdbea-8130-11ed-bfea-6018953ccf15.json\n",
            "train\t|2e7ff93b-8133-11ed-8640-6018953ccf15.json\n",
            "train\t|6cc6748c-8133-11ed-a502-6018953ccf15.json\n",
            "train\t|a1a987ff-8130-11ed-ad6c-6018953ccf15.json\n",
            "train\t|9429b9f2-8130-11ed-8365-6018953ccf15.json\n",
            "train\t|7d5d597f-8133-11ed-b583-6018953ccf15.json\n",
            "train\t|a381814c-8130-11ed-abf9-6018953ccf15.json\n",
            "train\t|3717dc24-8133-11ed-aab9-6018953ccf15.json\n",
            "train\t|769a1088-8133-11ed-8d62-6018953ccf15.json\n",
            "train\t|9602bf47-8130-11ed-b483-6018953ccf15.json\n",
            "train\t|37b4b1ba-8133-11ed-acfc-6018953ccf15.json\n",
            "train\t|7388d7e4-8133-11ed-a28a-6018953ccf15.json\n",
            "train\t|6f3b734b-8133-11ed-af6e-6018953ccf15.json\n",
            "train\t|97dc3b1b-8130-11ed-8ed7-6018953ccf15.json\n",
            "train\t|a10adc0c-8130-11ed-9dcc-6018953ccf15.json\n",
            "train\t|9c20e7a8-8130-11ed-9231-6018953ccf15.json\n",
            "train\t|a4b8678a-8130-11ed-a7a7-6018953ccf15.json\n",
            "train\t|38efa956-8133-11ed-bf76-6018953ccf15.json\n",
            "train\t|3c9f3a69-8133-11ed-bff2-6018953ccf15.json\n",
            "train\t|6d635c0e-8133-11ed-91ad-6018953ccf15.json\n",
            "train\t|724e3514-8133-11ed-9be5-6018953ccf15.json\n",
            "train\t|74c2b75b-8133-11ed-98c2-6018953ccf15.json\n",
            "train\t|71136a6c-8133-11ed-9f8f-6018953ccf15.json\n",
            "train\t|38516726-8133-11ed-b405-6018953ccf15.json\n",
            "train\t|3a2a6382-8133-11ed-b2a0-6018953ccf15.json\n",
            "train\t|3c0280e2-8133-11ed-82b6-6018953ccf15.json\n",
            "train\t|398d6f3e-8133-11ed-927f-6018953ccf15.json\n",
            "train\t|a41c0e44-8130-11ed-9ff8-6018953ccf15.json\n",
            "train\t|3b65429d-8133-11ed-b97f-6018953ccf15.json\n",
            "train\t|336ad385-8133-11ed-9889-6018953ccf15.json\n",
            "train\t|2fbac32e-8133-11ed-b334-6018953ccf15.json\n",
            "train\t|6e012409-8133-11ed-8a2a-6018953ccf15.json\n",
            "train\t|6e9dc5da-8133-11ed-a232-6018953ccf15.json\n",
            "train\t|2de2a435-8133-11ed-8f30-6018953ccf15.json\n",
            "train\t|a06da973-8130-11ed-8a9a-6018953ccf15.json\n",
            "train\t|7c21084b-8133-11ed-8281-6018953ccf15.json\n",
            "train\t|9564a9c3-8130-11ed-a570-6018953ccf15.json\n",
            "train\t|32cdb0d4-8133-11ed-b5ca-6018953ccf15.json\n",
            "train\t|72eba0ea-8133-11ed-bdc5-6018953ccf15.json\n",
            "train\t|7df9e05a-8133-11ed-aa4e-6018953ccf15.json\n",
            "train\t|755fc2d6-8133-11ed-a2a8-6018953ccf15.json\n",
            "train\t|9fd0357a-8130-11ed-adb9-6018953ccf15.json\n",
            "train\t|2d4530d1-8133-11ed-8418-6018953ccf15.json\n",
            "train\t|9ae90494-8130-11ed-bd8e-6018953ccf15.json\n",
            "train\t|3057c707-8133-11ed-90dc-6018953ccf15.json\n",
            "train\t|79abfc95-8133-11ed-ba1e-6018953ccf15.json\n",
            "train\t|3407d5bf-8133-11ed-8dc4-6018953ccf15.json\n",
            "train\t|6fd94f85-8133-11ed-8202-6018953ccf15.json\n",
            "train\t|30f60206-8133-11ed-9aef-6018953ccf15.json\n",
            "train\t|9cbc3c76-8130-11ed-86d0-6018953ccf15.json\n",
            "train\t|34a33674-8133-11ed-81e7-6018953ccf15.json\n",
            "train\t|96a0945a-8130-11ed-b30f-6018953ccf15.json\n",
            "train\t|367a34bb-8133-11ed-a7e2-6018953ccf15.json\n",
            "train\t|70765f38-8133-11ed-aefe-6018953ccf15.json\n",
            "train\t|78712734-8133-11ed-bc8f-6018953ccf15.json\n",
            "train\t|7ae6574a-8133-11ed-b2f5-6018953ccf15.json\n",
            "test\t|75fcecae-8133-11ed-94e0-6018953ccf15.json\n",
            "test\t|6c29cb58-8133-11ed-b0eb-6018953ccf15.json\n",
            "test\t|987a0d0f-8130-11ed-b76e-6018953ccf15.json\n",
            "test\t|77370b41-8133-11ed-9077-6018953ccf15.json\n",
            "test\t|3540f8b0-8133-11ed-8f40-6018953ccf15.json\n",
            "test\t|7cbf8b81-8133-11ed-a6de-6018953ccf15.json\n",
            "test\t|71b04799-8133-11ed-8854-6018953ccf15.json\n",
            "test\t|7b838983-8133-11ed-8bee-6018953ccf15.json\n",
            "test\t|2f1df0f9-8133-11ed-941c-6018953ccf15.json\n",
            "test\t|3ac8189d-8133-11ed-b0df-6018953ccf15.json\n",
            "test\t|742578e9-8133-11ed-a35f-6018953ccf15.json\n",
            "test\t|a2e564fd-8130-11ed-956e-6018953ccf15.json\n",
            "test\t|991471ef-8130-11ed-baea-6018953ccf15.json\n",
            "val\t|9b860ec3-8130-11ed-8b30-6018953ccf15.json\n",
            "val\t|a2474f02-8130-11ed-a7c2-6018953ccf15.json\n",
            "val\t|790e2c87-8133-11ed-9ca7-6018953ccf15.json\n",
            "val\t|77d455eb-8133-11ed-bb35-6018953ccf15.json\n",
            "val\t|938f0034-8130-11ed-8121-6018953ccf15.json\n",
            "val\t|94c71766-8130-11ed-9d99-6018953ccf15.json\n",
            "val\t|99b14c74-8130-11ed-89ef-6018953ccf15.json\n",
            "val\t|7a4962b3-8133-11ed-be38-6018953ccf15.json\n",
            "val\t|9f33f42b-8130-11ed-be10-6018953ccf15.json\n",
            "val\t|973dd292-8130-11ed-87fa-6018953ccf15.json\n",
            "val\t|31923948-8133-11ed-8b48-6018953ccf15.json\n",
            "val\t|35ddc6b4-8133-11ed-a208-6018953ccf15.json\n"
          ]
        }
      ]
    },
    {
      "cell_type": "markdown",
      "source": [
        "## Creating a TF dataset of final augmented images"
      ],
      "metadata": {
        "id": "M1a_fJoZkvp4"
      }
    },
    {
      "cell_type": "code",
      "source": [
        "def load_image(x):\n",
        "  byte_img = tf.io.read_file(x)\n",
        "  img = tf.io.decode_jpeg(byte_img)\n",
        "  return img"
      ],
      "metadata": {
        "id": "pgmALJ3kmXW9"
      },
      "execution_count": 31,
      "outputs": []
    },
    {
      "cell_type": "code",
      "source": [
        "train_images = tf.data.Dataset.list_files('aug_data/train/images/*.jpg', shuffle=False)\n",
        "train_images = train_images.map(load_image)\n",
        "train_images = train_images.map(lambda x: tf.image.resize(x, (120, 120)))\n",
        "train_images = train_images.map(lambda x: x/255)\n",
        "\n",
        "test_images = tf.data.Dataset.list_files('aug_data/test/images/*.jpg', shuffle=False)\n",
        "test_images = test_images.map(load_image)\n",
        "test_images = test_images.map(lambda x: tf.image.resize(x, (120, 120)))\n",
        "test_images = test_images.map(lambda x: x/255)\n",
        "\n",
        "val_images = tf.data.Dataset.list_files('aug_data/val/images/*.jpg', shuffle=False)\n",
        "val_images = val_images.map(load_image)\n",
        "val_images = val_images.map(lambda x: tf.image.resize(x, (120, 120)))\n",
        "val_images = val_images.map(lambda x: x/255)"
      ],
      "metadata": {
        "id": "-7EjAeXFkzTb"
      },
      "execution_count": 33,
      "outputs": []
    },
    {
      "cell_type": "markdown",
      "source": [
        "## Prepare labels"
      ],
      "metadata": {
        "id": "M2EfhqXPnmkW"
      }
    },
    {
      "cell_type": "code",
      "source": [
        "def load_labels(label_path):\n",
        "  with open(label_path.numpy(), 'r', encoding=\"utf-8\") as f:\n",
        "    label = json.load(f)\n",
        "  \n",
        "  return [label['class']], label['bbox']"
      ],
      "metadata": {
        "id": "PO1f1tFynIov"
      },
      "execution_count": 34,
      "outputs": []
    },
    {
      "cell_type": "code",
      "source": [
        "train_labels = tf.data.Dataset.list_files('aug_data/train/labels/*.json', shuffle=False)\n",
        "train_labels = train_labels.map(lambda x: tf.py_function(load_labels, [x], [tf.uint8, tf.float16]))\n",
        "\n",
        "test_labels = tf.data.Dataset.list_files('aug_data/test/labels/*.json', shuffle=False)\n",
        "test_labels = test_labels.map(lambda x: tf.py_function(load_labels, [x], [tf.uint8, tf.float16]))\n",
        "\n",
        "val_labels = tf.data.Dataset.list_files('aug_data/val/labels/*.json', shuffle=False)\n",
        "val_labels = val_labels.map(lambda x: tf.py_function(load_labels, [x], [tf.uint8, tf.float16]))"
      ],
      "metadata": {
        "id": "LgJ87mfpn4gP"
      },
      "execution_count": 35,
      "outputs": []
    },
    {
      "cell_type": "markdown",
      "source": [
        "## Combine image and label dataset"
      ],
      "metadata": {
        "id": "dUfgrRoMpE-y"
      }
    },
    {
      "cell_type": "code",
      "source": [
        "len(test_images), len(test_labels)"
      ],
      "metadata": {
        "colab": {
          "base_uri": "https://localhost:8080/"
        },
        "id": "hLs9WlrMpEAT",
        "outputId": "1971071d-ffae-4c38-ae0f-ca0a08d3fa3e"
      },
      "execution_count": 47,
      "outputs": [
        {
          "output_type": "execute_result",
          "data": {
            "text/plain": [
              "(840, 840)"
            ]
          },
          "metadata": {},
          "execution_count": 47
        }
      ]
    },
    {
      "cell_type": "code",
      "source": [
        "train = tf.data.Dataset.zip((train_images, train_labels))\n",
        "train = train.shuffle(5000)\n",
        "train = train.batch(8)\n",
        "train = train.prefetch(tf.data.AUTOTUNE)\n",
        "\n",
        "test = tf.data.Dataset.zip((test_images, test_labels))\n",
        "test = test.shuffle(1300)\n",
        "test = test.batch(8)\n",
        "test = test.prefetch(tf.data.AUTOTUNE)\n",
        "\n",
        "val = tf.data.Dataset.zip((val_images, val_labels))\n",
        "val = val.shuffle(1000)\n",
        "val = val.batch(8)\n",
        "val = val.prefetch(tf.data.AUTOTUNE)"
      ],
      "metadata": {
        "id": "h6AsbA90piO7"
      },
      "execution_count": 48,
      "outputs": []
    },
    {
      "cell_type": "code",
      "source": [
        "train.as_numpy_iterator().next()[1]"
      ],
      "metadata": {
        "colab": {
          "base_uri": "https://localhost:8080/"
        },
        "id": "orVl2fXrqTdr",
        "outputId": "c87e0bf7-c812-4350-ef7b-f6cbd0c47c0c"
      },
      "execution_count": 51,
      "outputs": [
        {
          "output_type": "execute_result",
          "data": {
            "text/plain": [
              "(array([[1],\n",
              "        [1],\n",
              "        [1],\n",
              "        [1],\n",
              "        [1],\n",
              "        [0],\n",
              "        [1],\n",
              "        [1]], dtype=uint8), array([[0.32    , 0.0913  , 0.728   , 0.631   ],\n",
              "        [0.581   , 0.      , 1.      , 0.5713  ],\n",
              "        [0.9893  , 0.013016, 1.      , 0.6523  ],\n",
              "        [0.57    , 0.2291  , 0.9775  , 0.771   ],\n",
              "        [0.4553  , 0.2883  , 0.882   , 0.76    ],\n",
              "        [0.      , 0.      , 0.      , 0.      ],\n",
              "        [0.3552  , 0.2705  , 0.7817  , 0.742   ],\n",
              "        [0.2461  , 0.2942  , 0.636   , 0.798   ]], dtype=float16))"
            ]
          },
          "metadata": {},
          "execution_count": 51
        }
      ]
    },
    {
      "cell_type": "markdown",
      "source": [
        "## Creating the network"
      ],
      "metadata": {
        "id": "xcJmARYGspgF"
      }
    },
    {
      "cell_type": "code",
      "source": [
        "from tensorflow.keras.models import Model\n",
        "from tensorflow.keras import layers\n",
        "from tensorflow.keras.applications import VGG16"
      ],
      "metadata": {
        "id": "-Ht_iU-xr2HJ"
      },
      "execution_count": 52,
      "outputs": []
    },
    {
      "cell_type": "code",
      "source": [
        "vgg = VGG16(include_top=False)\n",
        "vgg.summary()"
      ],
      "metadata": {
        "colab": {
          "base_uri": "https://localhost:8080/"
        },
        "id": "wnwPp4KcsAKW",
        "outputId": "a4ee9482-c03e-4fba-f9b5-16fa8a3f0a7d"
      },
      "execution_count": 53,
      "outputs": [
        {
          "output_type": "stream",
          "name": "stdout",
          "text": [
            "Downloading data from https://storage.googleapis.com/tensorflow/keras-applications/vgg16/vgg16_weights_tf_dim_ordering_tf_kernels_notop.h5\n",
            "58889256/58889256 [==============================] - 1s 0us/step\n",
            "Model: \"vgg16\"\n",
            "_________________________________________________________________\n",
            " Layer (type)                Output Shape              Param #   \n",
            "=================================================================\n",
            " input_1 (InputLayer)        [(None, None, None, 3)]   0         \n",
            "                                                                 \n",
            " block1_conv1 (Conv2D)       (None, None, None, 64)    1792      \n",
            "                                                                 \n",
            " block1_conv2 (Conv2D)       (None, None, None, 64)    36928     \n",
            "                                                                 \n",
            " block1_pool (MaxPooling2D)  (None, None, None, 64)    0         \n",
            "                                                                 \n",
            " block2_conv1 (Conv2D)       (None, None, None, 128)   73856     \n",
            "                                                                 \n",
            " block2_conv2 (Conv2D)       (None, None, None, 128)   147584    \n",
            "                                                                 \n",
            " block2_pool (MaxPooling2D)  (None, None, None, 128)   0         \n",
            "                                                                 \n",
            " block3_conv1 (Conv2D)       (None, None, None, 256)   295168    \n",
            "                                                                 \n",
            " block3_conv2 (Conv2D)       (None, None, None, 256)   590080    \n",
            "                                                                 \n",
            " block3_conv3 (Conv2D)       (None, None, None, 256)   590080    \n",
            "                                                                 \n",
            " block3_pool (MaxPooling2D)  (None, None, None, 256)   0         \n",
            "                                                                 \n",
            " block4_conv1 (Conv2D)       (None, None, None, 512)   1180160   \n",
            "                                                                 \n",
            " block4_conv2 (Conv2D)       (None, None, None, 512)   2359808   \n",
            "                                                                 \n",
            " block4_conv3 (Conv2D)       (None, None, None, 512)   2359808   \n",
            "                                                                 \n",
            " block4_pool (MaxPooling2D)  (None, None, None, 512)   0         \n",
            "                                                                 \n",
            " block5_conv1 (Conv2D)       (None, None, None, 512)   2359808   \n",
            "                                                                 \n",
            " block5_conv2 (Conv2D)       (None, None, None, 512)   2359808   \n",
            "                                                                 \n",
            " block5_conv3 (Conv2D)       (None, None, None, 512)   2359808   \n",
            "                                                                 \n",
            " block5_pool (MaxPooling2D)  (None, None, None, 512)   0         \n",
            "                                                                 \n",
            "=================================================================\n",
            "Total params: 14,714,688\n",
            "Trainable params: 14,714,688\n",
            "Non-trainable params: 0\n",
            "_________________________________________________________________\n"
          ]
        }
      ]
    },
    {
      "cell_type": "markdown",
      "source": [
        "### Custom NN model"
      ],
      "metadata": {
        "id": "YfjPBtywsn8A"
      }
    },
    {
      "cell_type": "code",
      "source": [
        "def build_model():\n",
        "  input_layer = layers.Input(shape=(120, 120, 3))\n",
        "  vgg = VGG16(include_top=False)(input_layer)\n",
        "\n",
        "  # Determines presence of object\n",
        "  f1 = layers.GlobalAveragePooling2D()(vgg)\n",
        "  class1 = layers.Dense(2048, activation='relu')(f1)\n",
        "  class2 = layers.Dense(1, activation='sigmoid')(class1)\n",
        "\n",
        "  # Determines location of object\n",
        "  f2 = layers.GlobalAveragePooling2D()(vgg)\n",
        "  regress1 = layers.Dense(2048, activation='relu')(f1)\n",
        "  regress2 = layers.Dense(4, activation='sigmoid')(regress1)\n",
        "\n",
        "  facetracker = Model(inputs=input_layer, outputs=[class2, regress2])\n",
        "  return facetracker"
      ],
      "metadata": {
        "id": "08BWjeHlsngw"
      },
      "execution_count": 55,
      "outputs": []
    },
    {
      "cell_type": "code",
      "source": [
        "facetracker = build_model()\n",
        "facetracker.summary()"
      ],
      "metadata": {
        "colab": {
          "base_uri": "https://localhost:8080/"
        },
        "id": "1eGjLtpStgNs",
        "outputId": "40eac7cf-59c3-4f8a-b70e-5c01820e51c5"
      },
      "execution_count": 56,
      "outputs": [
        {
          "output_type": "stream",
          "name": "stdout",
          "text": [
            "Model: \"model\"\n",
            "__________________________________________________________________________________________________\n",
            " Layer (type)                   Output Shape         Param #     Connected to                     \n",
            "==================================================================================================\n",
            " input_2 (InputLayer)           [(None, 120, 120, 3  0           []                               \n",
            "                                )]                                                                \n",
            "                                                                                                  \n",
            " vgg16 (Functional)             (None, None, None,   14714688    ['input_2[0][0]']                \n",
            "                                512)                                                              \n",
            "                                                                                                  \n",
            " global_average_pooling2d (Glob  (None, 512)         0           ['vgg16[0][0]']                  \n",
            " alAveragePooling2D)                                                                              \n",
            "                                                                                                  \n",
            " dense (Dense)                  (None, 2048)         1050624     ['global_average_pooling2d[0][0]'\n",
            "                                                                 ]                                \n",
            "                                                                                                  \n",
            " dense_2 (Dense)                (None, 2048)         1050624     ['global_average_pooling2d[0][0]'\n",
            "                                                                 ]                                \n",
            "                                                                                                  \n",
            " dense_1 (Dense)                (None, 1)            2049        ['dense[0][0]']                  \n",
            "                                                                                                  \n",
            " dense_3 (Dense)                (None, 4)            8196        ['dense_2[0][0]']                \n",
            "                                                                                                  \n",
            "==================================================================================================\n",
            "Total params: 16,826,181\n",
            "Trainable params: 16,826,181\n",
            "Non-trainable params: 0\n",
            "__________________________________________________________________________________________________\n"
          ]
        }
      ]
    },
    {
      "cell_type": "markdown",
      "source": [
        "### Testing untrained model"
      ],
      "metadata": {
        "id": "T5rp-0rXuxFq"
      }
    },
    {
      "cell_type": "code",
      "source": [
        "X, y = train.as_numpy_iterator().next()\n",
        "X.shape"
      ],
      "metadata": {
        "colab": {
          "base_uri": "https://localhost:8080/"
        },
        "id": "59UOOoRrupvW",
        "outputId": "0c8cb7df-0e08-4a0f-a13f-0f693eba3a96"
      },
      "execution_count": 57,
      "outputs": [
        {
          "output_type": "execute_result",
          "data": {
            "text/plain": [
              "(8, 120, 120, 3)"
            ]
          },
          "metadata": {},
          "execution_count": 57
        }
      ]
    },
    {
      "cell_type": "code",
      "source": [
        "classes, coords = facetracker.predict(X)"
      ],
      "metadata": {
        "colab": {
          "base_uri": "https://localhost:8080/"
        },
        "id": "fgy9-xI9u4We",
        "outputId": "1380dfe0-ea9f-41dd-e656-599db05bec73"
      },
      "execution_count": 58,
      "outputs": [
        {
          "output_type": "stream",
          "name": "stdout",
          "text": [
            "1/1 [==============================] - 3s 3s/step\n"
          ]
        }
      ]
    },
    {
      "cell_type": "code",
      "source": [
        "classes, coords"
      ],
      "metadata": {
        "colab": {
          "base_uri": "https://localhost:8080/"
        },
        "id": "FWESzxsru_Hp",
        "outputId": "8db80e9e-cc84-4671-8424-1e9f8f573cc4"
      },
      "execution_count": 59,
      "outputs": [
        {
          "output_type": "execute_result",
          "data": {
            "text/plain": [
              "(array([[0.51514375],\n",
              "        [0.5437507 ],\n",
              "        [0.53740853],\n",
              "        [0.535606  ],\n",
              "        [0.545612  ],\n",
              "        [0.5329793 ],\n",
              "        [0.5417025 ],\n",
              "        [0.5460505 ]], dtype=float32),\n",
              " array([[0.3377325 , 0.35015154, 0.48456818, 0.25894326],\n",
              "        [0.35514435, 0.34251484, 0.5067265 , 0.3071561 ],\n",
              "        [0.3861572 , 0.32702675, 0.47810602, 0.24618027],\n",
              "        [0.3496043 , 0.348474  , 0.5042334 , 0.3146512 ],\n",
              "        [0.3799797 , 0.33296287, 0.4834198 , 0.26072666],\n",
              "        [0.36663064, 0.3308119 , 0.505363  , 0.26254678],\n",
              "        [0.36189637, 0.34149286, 0.46762276, 0.2654828 ],\n",
              "        [0.35909665, 0.34257448, 0.47907504, 0.3099606 ]], dtype=float32))"
            ]
          },
          "metadata": {},
          "execution_count": 59
        }
      ]
    },
    {
      "cell_type": "markdown",
      "source": [
        "## Defining Loss and optimizer function"
      ],
      "metadata": {
        "id": "MSnJJNomvHP7"
      }
    },
    {
      "cell_type": "code",
      "source": [
        "batches_per_epoch = 690\n",
        "lr_decay = (1./0.75 -1)/batches_per_epoch"
      ],
      "metadata": {
        "id": "4iFirFikvBg0"
      },
      "execution_count": 60,
      "outputs": []
    },
    {
      "cell_type": "code",
      "source": [
        "opt = tf.keras.optimizers.Adam(learning_rate=0.0001, decay = lr_decay)"
      ],
      "metadata": {
        "id": "tYSKCbuXvUlQ"
      },
      "execution_count": 61,
      "outputs": []
    },
    {
      "cell_type": "code",
      "source": [
        "def localization_loss(y_true, yhat):\n",
        "  delta_coord = tf.reduce_sum(tf.square(y_true[:, :2] - yhat[:, :2]))\n",
        "\n",
        "  h_true = y_true[:, 3] - y_true[:, 1]\n",
        "  w_true = y_true[:, 2] - y_true[:, 0]\n",
        "\n",
        "  h_pred = yhat[:, 3] - yhat[:, 1]\n",
        "  w_pred = yhat[:, 2] - yhat[:, 0]\n",
        "\n",
        "  delta_size = tf.reduce_sum(tf.square(w_true - w_pred) + tf.square(h_true - h_pred))\n",
        "\n",
        "  return delta_coord + delta_size"
      ],
      "metadata": {
        "id": "JJyBCM06vbzR"
      },
      "execution_count": 62,
      "outputs": []
    },
    {
      "cell_type": "code",
      "source": [
        "classloss = tf.keras.losses.BinaryCrossentropy()\n",
        "regressloss = localization_loss"
      ],
      "metadata": {
        "id": "GzzAzJ_Lwu_u"
      },
      "execution_count": 63,
      "outputs": []
    },
    {
      "cell_type": "code",
      "source": [
        "localization_loss(y[1], coords)"
      ],
      "metadata": {
        "colab": {
          "base_uri": "https://localhost:8080/"
        },
        "id": "ptih2WJBw2X3",
        "outputId": "fb37e62d-d3cd-4f0d-8895-6144b0f75ea2"
      },
      "execution_count": 64,
      "outputs": [
        {
          "output_type": "execute_result",
          "data": {
            "text/plain": [
              "<tf.Tensor: shape=(), dtype=float32, numpy=4.058026>"
            ]
          },
          "metadata": {},
          "execution_count": 64
        }
      ]
    },
    {
      "cell_type": "markdown",
      "source": [
        "## Train the NN"
      ],
      "metadata": {
        "id": "lC9YbkPgxEdk"
      }
    },
    {
      "cell_type": "code",
      "source": [
        "class FaceTracker(Model):\n",
        "  def __init__(self, eyetracker, **kwargs):\n",
        "    super().__init__(**kwargs)\n",
        "    self.model = eyetracker\n",
        "\n",
        "  def compile(self, opt, classloss, localizationloss, **kwargs):\n",
        "    super().compile(**kwargs)\n",
        "    self.closs = classloss\n",
        "    self.lloss = localizationloss\n",
        "    self.opt = opt\n",
        "\n",
        "  def train_step(self, batch, **kwargs):\n",
        "\n",
        "    X, y = batch\n",
        "\n",
        "    with tf.GradientTape() as tape:\n",
        "      classes, coords = self.model(X, training=True)\n",
        "\n",
        "      batch_classloss = self.closs(y[0], classes)\n",
        "      batch_localizationloss = self.lloss(tf.cast(y[1], tf.float32), coords)\n",
        "\n",
        "      total_loss = batch_localizationloss + 0.5 * batch_classloss\n",
        "\n",
        "      grad = tape.gradient(total_loss, self.model.trainable_variables)\n",
        "\n",
        "    opt.apply_gradients(zip(grad, self.model.trainable_variables))\n",
        "\n",
        "    return {\"total_loss\": total_loss, \"class_loss\": batch_classloss, \"regress_loss\": batch_localizationloss}\n",
        "\n",
        "  def test_step(self, batch, **kwargs):\n",
        "    X, y = batch\n",
        "\n",
        "    classes, coords = self.model(X, training=False)\n",
        "    batch_classloss = self.closs(y[0], classes)\n",
        "    batch_localizationloss = self.lloss(tf.cast(y[1], tf.float32), coords)\n",
        "    total_loss = batch_localizationloss + 0.5 * batch_classloss\n",
        "\n",
        "    return {\"total_loss\": total_loss, \"class_loss\": batch_classloss, \"regress_loss\": batch_localizationloss}\n",
        "\n",
        "  def call(self, X, **kwargs):\n",
        "    return self.model(X, **kwargs)"
      ],
      "metadata": {
        "id": "ay-hjyxUxHGR"
      },
      "execution_count": 65,
      "outputs": []
    },
    {
      "cell_type": "code",
      "source": [
        "model = FaceTracker(facetracker)"
      ],
      "metadata": {
        "id": "cifeZDG4zGN9"
      },
      "execution_count": 66,
      "outputs": []
    },
    {
      "cell_type": "code",
      "source": [
        "model.compile(opt, classloss, regressloss)"
      ],
      "metadata": {
        "id": "Zb9P9keNz6hb"
      },
      "execution_count": 68,
      "outputs": []
    },
    {
      "cell_type": "markdown",
      "source": [
        "### Train"
      ],
      "metadata": {
        "id": "V3K82k6g0KVe"
      }
    },
    {
      "cell_type": "code",
      "source": [
        "hist = model.fit(train, epochs=40, validation_data = val)"
      ],
      "metadata": {
        "id": "zzJir8LA0FNL"
      },
      "execution_count": null,
      "outputs": []
    },
    {
      "cell_type": "markdown",
      "source": [
        "### Plotting loss curves"
      ],
      "metadata": {
        "id": "IkKuOsgA1Fqm"
      }
    },
    {
      "cell_type": "code",
      "source": [
        "fig, ax = plt.subplots(ncols=3, figsize=(20,5))\n",
        "\n",
        "ax[0].plot(hist.history['total_loss'], color='teal', label='loss')\n",
        "ax[0].plot(hist.history['val_total_loss'], color='orange', label='val loss')\n",
        "ax[0].title.set_text('Loss')\n",
        "ax[0].legend()\n",
        "\n",
        "ax[1].plot(hist.history['class_loss'], color='teal', label='class loss')\n",
        "ax[1].plot(hist.history['val_class_loss'], color='orange', label='val class loss')\n",
        "ax[1].title.set_text('Classification Loss')\n",
        "ax[1].legend()\n",
        "\n",
        "ax[2].plot(hist.history['regress_loss'], color='teal', label='regress loss')\n",
        "ax[2].plot(hist.history['val_regress_loss'], color='orange', label='val regress loss')\n",
        "ax[2].title.set_text('Regression Loss')\n",
        "ax[2].legend()\n",
        "\n",
        "plt.show()"
      ],
      "metadata": {
        "id": "KddyRhX31HMi"
      },
      "execution_count": null,
      "outputs": []
    },
    {
      "cell_type": "markdown",
      "source": [
        "### Predicting on test set"
      ],
      "metadata": {
        "id": "_0qQQSze1P52"
      }
    },
    {
      "cell_type": "code",
      "source": [
        "test_data = test.as_numpy_iterator()\n",
        "test_sample = test_data.next()"
      ],
      "metadata": {
        "id": "tE9hdLmA1RpL"
      },
      "execution_count": null,
      "outputs": []
    },
    {
      "cell_type": "code",
      "source": [
        "yhat = facetracker.predict(test_sample[0])"
      ],
      "metadata": {
        "id": "tCUw6go51WN_"
      },
      "execution_count": null,
      "outputs": []
    },
    {
      "cell_type": "code",
      "source": [
        "fig, ax = plt.subplots(ncols=4, figsize=(20,20))\n",
        "for idx in range(4): \n",
        "    sample_image = test_sample[0][idx]\n",
        "    sample_coords = yhat[1][idx]\n",
        "    \n",
        "    if yhat[0][idx] > 0.9:\n",
        "        cv2.rectangle(sample_image, \n",
        "                      tuple(np.multiply(sample_coords[:2], [120,120]).astype(int)),\n",
        "                      tuple(np.multiply(sample_coords[2:], [120,120]).astype(int)), \n",
        "                            (255,0,0), 2)\n",
        "    \n",
        "    ax[idx].imshow(sample_image)"
      ],
      "metadata": {
        "id": "wCe1MLsq1Xfz"
      },
      "execution_count": null,
      "outputs": []
    },
    {
      "cell_type": "markdown",
      "source": [
        "### Saving the model"
      ],
      "metadata": {
        "id": "L1AbVndJ1ZPv"
      }
    },
    {
      "cell_type": "code",
      "source": [
        "facetracker.save('facetracker.h5')"
      ],
      "metadata": {
        "id": "8i0bdyhe1ab9"
      },
      "execution_count": null,
      "outputs": []
    }
  ]
}