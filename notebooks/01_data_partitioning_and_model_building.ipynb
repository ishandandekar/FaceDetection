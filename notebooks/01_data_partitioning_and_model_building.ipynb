{
  "nbformat": 4,
  "nbformat_minor": 0,
  "metadata": {
    "colab": {
      "provenance": []
    },
    "kernelspec": {
      "name": "python3",
      "display_name": "Python 3"
    },
    "language_info": {
      "name": "python"
    }
  },
  "cells": [
    {
      "cell_type": "markdown",
      "source": [
        "## Review Dataset and Build Image loading function"
      ],
      "metadata": {
        "id": "cCixB3OWI_n_"
      }
    },
    {
      "cell_type": "code",
      "execution_count": 1,
      "metadata": {
        "id": "l8AUa9pZIlbk"
      },
      "outputs": [],
      "source": [
        "import zipfile\n",
        "\n",
        "def unzip_data(filename: str,data_dir=\"data\") -> None:\n",
        "    \"\"\"\n",
        "    Unzips filename into the current working directory.\n",
        "    Args:\n",
        "        filename (str): a filepath to a target zip folder to be unzipped.\n",
        "    \"\"\"\n",
        "    zip_ref = zipfile.ZipFile(filename, \"r\")\n",
        "    zip_ref.extractall(data_dir)\n",
        "    zip_ref.close()"
      ]
    },
    {
      "cell_type": "code",
      "source": [
        "unzip_data(\"/content/zipped_data.zip\")"
      ],
      "metadata": {
        "id": "aGb8eYVyJo3M"
      },
      "execution_count": 2,
      "outputs": []
    },
    {
      "cell_type": "code",
      "source": [
        "from pathlib import Path\n",
        "Path.cwd()"
      ],
      "metadata": {
        "colab": {
          "base_uri": "https://localhost:8080/"
        },
        "id": "9amtRur_JtBh",
        "outputId": "edbf6154-cfa3-4738-ba50-aaf56b76bec2"
      },
      "execution_count": 3,
      "outputs": [
        {
          "output_type": "execute_result",
          "data": {
            "text/plain": [
              "PosixPath('/content')"
            ]
          },
          "metadata": {},
          "execution_count": 3
        }
      ]
    },
    {
      "cell_type": "markdown",
      "source": [
        "### Import TF and Deps"
      ],
      "metadata": {
        "id": "vOcaQANgKwbG"
      }
    },
    {
      "cell_type": "code",
      "source": [
        "import tensorflow as tf\n",
        "import json\n",
        "import numpy as np\n",
        "import matplotlib.pyplot as plt"
      ],
      "metadata": {
        "id": "xOi10bfUKzue"
      },
      "execution_count": 4,
      "outputs": []
    },
    {
      "cell_type": "markdown",
      "source": [
        "### Load Images into TF data pipeline"
      ],
      "metadata": {
        "id": "jr059sr5LFhR"
      }
    },
    {
      "cell_type": "code",
      "source": [
        "images = tf.data.Dataset.list_files('/content/data/data/images/*.jpg', shuffle=False)"
      ],
      "metadata": {
        "id": "H7kfENFQLI9w"
      },
      "execution_count": 5,
      "outputs": []
    },
    {
      "cell_type": "code",
      "source": [
        "def load_img(x):\n",
        "  \"\"\"\n",
        "  Reads in the file and spits out image as an array\n",
        "  \"\"\"\n",
        "  byte_img = tf.io.read_file(x)\n",
        "  img = tf.io.decode_image(byte_img)\n",
        "  return img"
      ],
      "metadata": {
        "id": "6cd1SynCLcH6"
      },
      "execution_count": 6,
      "outputs": []
    },
    {
      "cell_type": "code",
      "source": [
        "images = images.map(load_img)"
      ],
      "metadata": {
        "id": "SX3y93snLm13"
      },
      "execution_count": 8,
      "outputs": []
    },
    {
      "cell_type": "code",
      "source": [
        "images.as_numpy_iterator().next()"
      ],
      "metadata": {
        "colab": {
          "base_uri": "https://localhost:8080/"
        },
        "id": "DC5P-ay8LpmX",
        "outputId": "7b7dcadb-2bd9-40c4-8332-cb80a6d9297c"
      },
      "execution_count": 9,
      "outputs": [
        {
          "output_type": "execute_result",
          "data": {
            "text/plain": [
              "array([[[52, 50, 53],\n",
              "        [49, 47, 50],\n",
              "        [47, 45, 48],\n",
              "        ...,\n",
              "        [21, 22, 26],\n",
              "        [19, 23, 26],\n",
              "        [18, 22, 25]],\n",
              "\n",
              "       [[51, 49, 52],\n",
              "        [49, 47, 50],\n",
              "        [47, 45, 48],\n",
              "        ...,\n",
              "        [24, 25, 29],\n",
              "        [24, 25, 29],\n",
              "        [22, 26, 29]],\n",
              "\n",
              "       [[51, 49, 52],\n",
              "        [49, 47, 50],\n",
              "        [47, 45, 48],\n",
              "        ...,\n",
              "        [24, 25, 29],\n",
              "        [23, 24, 28],\n",
              "        [22, 23, 27]],\n",
              "\n",
              "       ...,\n",
              "\n",
              "       [[31, 26, 32],\n",
              "        [38, 33, 39],\n",
              "        [42, 37, 43],\n",
              "        ...,\n",
              "        [21, 17, 16],\n",
              "        [22, 18, 17],\n",
              "        [22, 18, 17]],\n",
              "\n",
              "       [[29, 19, 27],\n",
              "        [37, 27, 35],\n",
              "        [42, 32, 40],\n",
              "        ...,\n",
              "        [18, 18, 18],\n",
              "        [19, 19, 19],\n",
              "        [19, 19, 19]],\n",
              "\n",
              "       [[26, 15, 23],\n",
              "        [35, 24, 32],\n",
              "        [41, 30, 38],\n",
              "        ...,\n",
              "        [17, 19, 18],\n",
              "        [18, 20, 19],\n",
              "        [18, 20, 19]]], dtype=uint8)"
            ]
          },
          "metadata": {},
          "execution_count": 9
        }
      ]
    },
    {
      "cell_type": "markdown",
      "source": [
        "### View images using `matpotlib`"
      ],
      "metadata": {
        "id": "j8mKhYJRM1le"
      }
    },
    {
      "cell_type": "code",
      "source": [
        "image_generator = images.batch(4).as_numpy_iterator()"
      ],
      "metadata": {
        "id": "Wki3y2EvLvGd"
      },
      "execution_count": 13,
      "outputs": []
    },
    {
      "cell_type": "code",
      "source": [
        "to_plot_images = image_generator.next()"
      ],
      "metadata": {
        "id": "BTy2zKkwNJ_q"
      },
      "execution_count": 16,
      "outputs": []
    },
    {
      "cell_type": "code",
      "source": [
        "# Uncomment below code to see the data\n",
        "\n",
        "# fig, ax = plt.subplots(ncols=4, figsize=(20, 20))\n",
        "\n",
        "# for idx, image in enumerate(to_plot_images):\n",
        "#   ax[idx].imshow(image)\n",
        "\n",
        "# plt.show()"
      ],
      "metadata": {
        "id": "1HymkAIKOJqB"
      },
      "execution_count": 18,
      "outputs": []
    },
    {
      "cell_type": "markdown",
      "source": [
        "## Partition data and move files"
      ],
      "metadata": {
        "id": "M0bHS-GtQtQh"
      }
    },
    {
      "cell_type": "code",
      "source": [
        "!mkdir /content/data/train\n",
        "!mkdir /content/data/train/images\n",
        "!mkdir /content/data/train/labels\n",
        "\n",
        "!mkdir /content/data/val\n",
        "!mkdir /content/data/val/images\n",
        "!mkdir /content/data/val/labels\n",
        "\n",
        "!mkdir /content/data/test\n",
        "!mkdir /content/data/test/images\n",
        "!mkdir /content/data/test/labels"
      ],
      "metadata": {
        "id": "1mx5p1C-bR0H"
      },
      "execution_count": 19,
      "outputs": []
    },
    {
      "cell_type": "code",
      "source": [
        "import random\n",
        "import shutil\n",
        "import os\n",
        "from pathlib import Path\n",
        "random.seed(42)\n",
        "\n",
        "N_VAL = 13\n",
        "N_TEST = 14\n",
        "\n",
        "image_fileset = os.listdir('/content/data/data/images')\n",
        "labels_fileset = os.listdir('/content/data/data/labels')\n",
        "\n",
        "base_path = '/content/data/data/images'\n",
        "\n",
        "val_imgs, val_labels = zip(*random.sample(list(zip(image_fileset, labels_fileset)), N_VAL))\n",
        "set1 = set(image_fileset)\n",
        "set2 = set(val_imgs)\n",
        "image_fileset = list(set1 - set2)\n",
        "set1 = set(labels_fileset)\n",
        "set2 = set(val_labels)\n",
        "labels_fileset = list(set1 - set2)\n",
        "\n",
        "test_imgs, test_labels = zip(*random.sample(list(zip(image_fileset, labels_fileset)), N_TEST))\n",
        "set1 = set(image_fileset)\n",
        "set2 = set(test_imgs)\n",
        "train_imgs = list(set1 - set2)\n",
        "set1 = set(labels_fileset)\n",
        "set2 = set(test_labels)\n",
        "train_labels = list(set1 - set2)\n",
        "\n",
        "for file_name in train_imgs:\n",
        "  prev_file_path = Path.cwd() / \"data\" / \"data\" / \"images\" / file_name\n",
        "  new_file_path = Path.cwd() / \"data\" / \"train\" / \"images\" / file_name\n",
        "  shutil.move(prev_file_path, new_file_path)\n",
        "\n",
        "for file_name in train_labels:\n",
        "  prev_file_path = Path.cwd() / \"data\" / \"data\" / \"labels\" / file_name\n",
        "  new_file_path = Path.cwd() / \"data\" / \"train\" / \"labels\" / file_name\n",
        "  shutil.move(prev_file_path, new_file_path)\n",
        "\n",
        "for file_name in val_imgs:\n",
        "  prev_file_path = Path.cwd() / \"data\" / \"data\" / \"images\" / file_name\n",
        "  new_file_path = Path.cwd() / \"data\" / \"val\" / \"images\" / file_name\n",
        "  shutil.move(prev_file_path, new_file_path)\n",
        "\n",
        "for file_name in val_labels:\n",
        "  prev_file_path = Path.cwd() / \"data\" / \"data\" / \"labels\" / file_name\n",
        "  new_file_path = Path.cwd() / \"data\" / \"val\" / \"labels\" / file_name\n",
        "  shutil.move(prev_file_path, new_file_path)\n",
        "\n",
        "for file_name in test_imgs:\n",
        "  prev_file_path = Path.cwd() / \"data\" / \"data\" / \"images\" / file_name\n",
        "  new_file_path = Path.cwd() / \"data\" / \"test\" / \"images\" / file_name\n",
        "  shutil.move(prev_file_path, new_file_path)\n",
        "\n",
        "for file_name in test_labels:\n",
        "  prev_file_path = Path.cwd() / \"data\" / \"data\" / \"labels\" / file_name\n",
        "  new_file_path = Path.cwd() / \"data\" / \"test\" / \"labels\" / file_name\n",
        "  shutil.move(prev_file_path, new_file_path)"
      ],
      "metadata": {
        "id": "MZtRaOW2Qvp7"
      },
      "execution_count": 26,
      "outputs": []
    },
    {
      "cell_type": "markdown",
      "source": [
        "## Apply data augmentation on images and labels using `albumentations`"
      ],
      "metadata": {
        "id": "195A4wAkjtMa"
      }
    },
    {
      "cell_type": "code",
      "source": [
        "import albumentations as alb"
      ],
      "metadata": {
        "id": "ISHj0uLWj2os"
      },
      "execution_count": 27,
      "outputs": []
    },
    {
      "cell_type": "code",
      "source": [
        "augmentor = alb.Compose([\n",
        "    alb.RandomCrop(width=450, height=450),\n",
        "    alb.HorizontalFlip(p=0.5),\n",
        "    alb.RandomBrightnessConstrast(p=0.2),\n",
        "    alb.RandomGamma(p=0.2),\n",
        "    alb.RGBShift(p=0.2),\n",
        "    alb.VerticalFlip(0.5),\n",
        "], bbox_params=alb.BboxParams(format='albumentations', label_fields=['class_labels']))"
      ],
      "metadata": {
        "id": "Lv36B9qnkAjD"
      },
      "execution_count": null,
      "outputs": []
    },
    {
      "cell_type": "markdown",
      "source": [
        "### Testing the augmentation pipeline"
      ],
      "metadata": {
        "id": "yhfPUioylI9G"
      }
    },
    {
      "cell_type": "code",
      "source": [
        "import cv2\n",
        "img = cv2.imread('/content/data/train/images/2c0b4709-8133-11ed-a4ff-6018953ccf15.jpg')"
      ],
      "metadata": {
        "id": "SmLbIa82lMXr"
      },
      "execution_count": 30,
      "outputs": []
    },
    {
      "cell_type": "code",
      "source": [
        "import json\n",
        "with open('/content/data/train/labels/2fbac32e-8133-11ed-b334-6018953ccf15.json', 'r') as f:\n",
        "  label = json.load(f)"
      ],
      "metadata": {
        "colab": {
          "base_uri": "https://localhost:8080/",
          "height": 200
        },
        "id": "rnxYZwfpldtN",
        "outputId": "3d2b327d-bcb8-4702-e1f3-f930c4a52457"
      },
      "execution_count": 33,
      "outputs": [
        {
          "output_type": "error",
          "ename": "AttributeError",
          "evalue": "ignored",
          "traceback": [
            "\u001b[0;31m---------------------------------------------------------------------------\u001b[0m",
            "\u001b[0;31mAttributeError\u001b[0m                            Traceback (most recent call last)",
            "\u001b[0;32m<ipython-input-33-340c679d61c9>\u001b[0m in \u001b[0;36m<module>\u001b[0;34m\u001b[0m\n\u001b[1;32m      1\u001b[0m \u001b[0;32mimport\u001b[0m \u001b[0mjson\u001b[0m\u001b[0;34m\u001b[0m\u001b[0;34m\u001b[0m\u001b[0m\n\u001b[1;32m      2\u001b[0m \u001b[0;32mwith\u001b[0m \u001b[0mopen\u001b[0m\u001b[0;34m(\u001b[0m\u001b[0;34m'/content/data/train/labels/2fbac32e-8133-11ed-b334-6018953ccf15.json'\u001b[0m\u001b[0;34m,\u001b[0m \u001b[0;34m'r'\u001b[0m\u001b[0;34m)\u001b[0m \u001b[0;32mas\u001b[0m \u001b[0mf\u001b[0m\u001b[0;34m:\u001b[0m\u001b[0;34m\u001b[0m\u001b[0;34m\u001b[0m\u001b[0m\n\u001b[0;32m----> 3\u001b[0;31m   \u001b[0mlabel\u001b[0m \u001b[0;34m=\u001b[0m \u001b[0mjson\u001b[0m\u001b[0;34m.\u001b[0m\u001b[0mlead\u001b[0m\u001b[0;34m(\u001b[0m\u001b[0mf\u001b[0m\u001b[0;34m)\u001b[0m\u001b[0;34m\u001b[0m\u001b[0;34m\u001b[0m\u001b[0m\n\u001b[0m",
            "\u001b[0;31mAttributeError\u001b[0m: module 'json' has no attribute 'lead'"
          ]
        }
      ]
    }
  ]
}